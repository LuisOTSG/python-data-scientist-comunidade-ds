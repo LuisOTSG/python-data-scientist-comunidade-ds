{
  "nbformat": 4,
  "nbformat_minor": 0,
  "metadata": {
    "colab": {
      "provenance": [],
      "authorship_tag": "ABX9TyNFI/w6/BTfcMMty0oRhI4d",
      "include_colab_link": true
    },
    "kernelspec": {
      "name": "python3",
      "display_name": "Python 3"
    },
    "language_info": {
      "name": "python"
    }
  },
  "cells": [
    {
      "cell_type": "markdown",
      "metadata": {
        "id": "view-in-github",
        "colab_type": "text"
      },
      "source": [
        "<a href=\"https://colab.research.google.com/github/LuisOTSG/python-data-scientist-comunidade-ds/blob/main/ciclo01_exercises.ipynb\" target=\"_parent\"><img src=\"https://colab.research.google.com/assets/colab-badge.svg\" alt=\"Open In Colab\"/></a>"
      ]
    },
    {
      "cell_type": "markdown",
      "source": [
        "# Aula 10 - Exercícios"
      ],
      "metadata": {
        "id": "85gNljCYEEaX"
      }
    },
    {
      "cell_type": "code",
      "execution_count": null,
      "metadata": {
        "id": "i3oRIWsrkWMB"
      },
      "outputs": [],
      "source": [
        "\"\"\"\n",
        "1. Some o valor 10 com 30 e exiba na tela\n",
        "2. Some os seguintes números: 10, 300, 0.4, 10\n",
        "3. Desenvolva comandos em Python capaz de calcular a média harmônica entre 5 números. Por exemplo: 2, 3, 5, 6 e 9\n",
        "4. Um Cientista de Dados Jr precisa criar sequência de comandos que seja capaz de calcular a média ponderada dos valores digitados pelo usuário.\n",
        "O usuário é capaz de digitar 8 valores. O primeiro número tem peso 0.5, o segundo 1.0, o terceiro 1.5 até o último valor que tem peso 4, ou seja, os pesos\n",
        "são acrescidos de 0.5 para cada valor. Portanto, o algoritmo deve ser capaz de calcular a média ponderada dos oito valores digitado pelo usuário, cada valor\n",
        "com o seu respectivo peso.\n",
        "5. Um programador Jr precisa construir uma mini calculadora. Essa calculadora segue os seguintes padrões:\n",
        "a. Se o usuário digital um valor menor ou igual a 5, a calculadora vai multiplicar esse valor por 10 e retornar o valor resultantes para o usuário\n",
        "b. Se o usuário digitar um número entre 6 e 10, a calculadora multiplica por 20 o número digitado pelo usuário\n",
        "c. Se o usuário digitar um valor maior ou igual a 11, a calculadora soma 100 ao número digitado.\n",
        "Ajude o programador Jr a construir essa calculadora, fornecendo os comandos em Python para ele.\n",
        "6. Um programador Jr precisa criar um algoritmo que consiga fazer a comparação entre três valores e exibir qual é o maior e qual é o menor valor digitado.\n",
        "Ajude o programador desenvolvendo o código em Python.\n",
        "\"\"\""
      ]
    },
    {
      "cell_type": "code",
      "source": [
        "# Resposta 1:\n",
        "resposta_1 = 10 + 30\n",
        "print(resposta_1)"
      ],
      "metadata": {
        "colab": {
          "base_uri": "https://localhost:8080/"
        },
        "id": "E6r48iPPBQKV",
        "outputId": "48febd45-1bb7-4017-81de-42c642303e9d"
      },
      "execution_count": 2,
      "outputs": [
        {
          "output_type": "stream",
          "name": "stdout",
          "text": [
            "40\n"
          ]
        }
      ]
    },
    {
      "cell_type": "code",
      "source": [
        "# Resposta 2:\n",
        "resposta_2 = 10 + 300 + 0.4 + 0\n",
        "print(resposta_2)"
      ],
      "metadata": {
        "colab": {
          "base_uri": "https://localhost:8080/"
        },
        "id": "QvcGSjW9Cg_5",
        "outputId": "c646df05-6260-433f-d949-a5eca79f23e8"
      },
      "execution_count": 3,
      "outputs": [
        {
          "output_type": "stream",
          "name": "stdout",
          "text": [
            "310.4\n"
          ]
        }
      ]
    },
    {
      "cell_type": "code",
      "source": [
        "# Resposta 3:\n",
        "# Como calcular a média harmônica?\n",
        "# Dividimos a quantidade de elementos (n) pela soma do inverso de cada um dos elementos do conjunto (1/xn).\n",
        "num01 = int(input('Digite o 1° número: '))\n",
        "num02 = int(input('Digite o 2° número: '))\n",
        "num03 = int(input('Digite o 3° número: '))\n",
        "num04 = int(input('Digite o 4° número: '))\n",
        "num05 = int(input('Digite o 5° número: '))\n",
        "n = 5\n",
        "media_harmonica = n / ( ( 1/num01 ) + ( 1/num02 ) + ( 1/num03 ) + ( 1/num04 ) + ( 1/num05 ) )\n",
        "print(f'O valor da média harmônica é: {media_harmonica:.2f}')"
      ],
      "metadata": {
        "colab": {
          "base_uri": "https://localhost:8080/"
        },
        "id": "9CyfYzliBQBQ",
        "outputId": "96d8dd8c-f567-460b-a462-c2c146eb206b"
      },
      "execution_count": 14,
      "outputs": [
        {
          "output_type": "stream",
          "name": "stdout",
          "text": [
            "Digite o 1° número: 2\n",
            "Digite o 2° número: 3\n",
            "Digite o 3° número: 5\n",
            "Digite o 4° número: 6\n",
            "Digite o 5° número: 9\n",
            "O valor da média harmônica é: 3.81\n"
          ]
        }
      ]
    },
    {
      "cell_type": "code",
      "source": [
        "# Resposta 4:\n",
        "num01 = int(input( 'Digite o 1° número: '))\n",
        "num02 = int(input( 'Digite o 2° número: '))\n",
        "num03 = int(input( 'Digite o 3° número: '))\n",
        "num04 = int(input( 'Digite o 4° número: '))\n",
        "num05 = int(input( 'Digite o 5° número: '))\n",
        "num06 = int(input( 'Digite o 6° número: '))\n",
        "num07 = int(input( 'Digite o 7° número: '))\n",
        "num08 = int(input( 'Digite o 8° número: '))\n",
        "peso01 = 0.5\n",
        "peso02 = 1.0\n",
        "peso03 = 1.5\n",
        "peso04 = 2.0\n",
        "peso05 = 2.5\n",
        "peso06 = 3.0\n",
        "peso07 = 3.5\n",
        "peso08 = 4.0\n",
        "n = 8\n",
        "numerador = (peso01 * num01) + (peso02 * num02) + (peso03 * num03) + (peso04 * num04) + (peso05 * num05) + (peso06 * num06) + (peso07 * num07) + (peso08 * num08)\n",
        "denominador = peso01 + peso02 + peso03 + peso04 + peso05 + peso06 + peso07 + peso08\n",
        "media_ponderada = numerador / denominador\n",
        "print(f'O valor da média ponderada é: {media_ponderada:.2f}')"
      ],
      "metadata": {
        "colab": {
          "base_uri": "https://localhost:8080/"
        },
        "id": "pnqwb-CeBNxd",
        "outputId": "e6e2a4cb-48a4-4f3e-ae83-ed0b127e923d"
      },
      "execution_count": 15,
      "outputs": [
        {
          "output_type": "stream",
          "name": "stdout",
          "text": [
            "Digite o 1° número: 7\n",
            "Digite o 2° número: 8\n",
            "Digite o 3° número: 4\n",
            "Digite o 4° número: 6\n",
            "Digite o 5° número: 9\n",
            "Digite o 6° número: 1\n",
            "Digite o 7° número: 2\n",
            "Digite o 8° número: 3\n",
            "O valor da média ponderada é: 4.11\n"
          ]
        }
      ]
    },
    {
      "cell_type": "code",
      "source": [
        "# Resposta 5:\n",
        "num = int(input('Digite um valor: '))\n",
        "if num <= 5:\n",
        "  resultado = num * 10\n",
        "elif num < 10:\n",
        "  resultado = num * 20\n",
        "else:\n",
        "  resultado = num + 100\n",
        "\n",
        "print(f'O valor é: {resultado:.2f}')"
      ],
      "metadata": {
        "colab": {
          "base_uri": "https://localhost:8080/"
        },
        "id": "O9eFSzeVDoYo",
        "outputId": "7413e960-872c-40b8-b4c7-813a83f13700"
      },
      "execution_count": 17,
      "outputs": [
        {
          "output_type": "stream",
          "name": "stdout",
          "text": [
            "Digite um valor: 10\n",
            "O valor é: 110.00\n"
          ]
        }
      ]
    },
    {
      "cell_type": "code",
      "source": [
        "# Resposta 6:\n",
        "import numpy as np\n",
        "\n",
        "num01 = int(input('Digite o 1° valor: '))\n",
        "num02 = int(input( 'Digite o 2° valor: '))\n",
        "num03 = int(input( 'Digite o 3° valor: '))\n",
        "\n",
        "numeros = [num01, num02, num03]\n",
        "maior = np.max(numeros)\n",
        "menor = np.min(numeros)\n",
        "\n",
        "print(\"O maior número é:\", maior)\n",
        "print(\"O menor número é:\", menor)"
      ],
      "metadata": {
        "colab": {
          "base_uri": "https://localhost:8080/"
        },
        "id": "QgG09BV3D4hw",
        "outputId": "95ba1af0-f63b-4df7-bed1-546b58112a5d"
      },
      "execution_count": 18,
      "outputs": [
        {
          "output_type": "stream",
          "name": "stdout",
          "text": [
            "Digit o 1° valor: 10\n",
            "Digit o 2° valor: 25\n",
            "Digit o 3° valor: 50\n",
            "O maior número é: 50\n",
            "O menor número é: 10\n"
          ]
        }
      ]
    },
    {
      "cell_type": "code",
      "source": [],
      "metadata": {
        "id": "A_sygClCLEsf"
      },
      "execution_count": null,
      "outputs": []
    }
  ]
}