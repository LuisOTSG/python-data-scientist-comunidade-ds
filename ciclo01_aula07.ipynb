{
  "nbformat": 4,
  "nbformat_minor": 0,
  "metadata": {
    "colab": {
      "provenance": [],
      "authorship_tag": "ABX9TyPCZSHUBNpXq6i237wMJfI9",
      "include_colab_link": true
    },
    "kernelspec": {
      "name": "python3",
      "display_name": "Python 3"
    },
    "language_info": {
      "name": "python"
    }
  },
  "cells": [
    {
      "cell_type": "markdown",
      "metadata": {
        "id": "view-in-github",
        "colab_type": "text"
      },
      "source": [
        "<a href=\"https://colab.research.google.com/github/LuisOTSG/python-data-scientist-comunidade-ds/blob/main/ciclo01_aula07.ipynb\" target=\"_parent\"><img src=\"https://colab.research.google.com/assets/colab-badge.svg\" alt=\"Open In Colab\"/></a>"
      ]
    },
    {
      "cell_type": "markdown",
      "source": [
        "## Aula 07 - Escrevendo os primeiros códigos em Python"
      ],
      "metadata": {
        "id": "qemGe10IuG8H"
      }
    },
    {
      "cell_type": "markdown",
      "source": [
        "### Exibição de Mensangens"
      ],
      "metadata": {
        "id": "LElmbYiblik9"
      }
    },
    {
      "cell_type": "code",
      "execution_count": null,
      "metadata": {
        "id": "XaYGCxS16oZN",
        "colab": {
          "base_uri": "https://localhost:8080/"
        },
        "outputId": "0245217c-5085-4616-9d37-47db60154dea"
      },
      "outputs": [
        {
          "output_type": "stream",
          "name": "stdout",
          "text": [
            "Hello World!\n"
          ]
        }
      ],
      "source": [
        "print('Hello World!')"
      ]
    },
    {
      "cell_type": "code",
      "source": [
        "print(\"Você também\", \"pode enviar várias\", \"mensagens de uma vez\")"
      ],
      "metadata": {
        "colab": {
          "base_uri": "https://localhost:8080/"
        },
        "id": "f4ujJwNNl2RN",
        "outputId": "cfb2b803-1de4-45eb-aef8-7fea48be8165"
      },
      "execution_count": null,
      "outputs": [
        {
          "output_type": "stream",
          "name": "stdout",
          "text": [
            "Você também pode enviar várias mensagens de uma vez\n"
          ]
        }
      ]
    },
    {
      "cell_type": "code",
      "source": [
        "print('Olá, Mundo')\n",
        "print('Meu nome é', 'Luis Gomes')\n",
        "print('Estou aprendendo Python')"
      ],
      "metadata": {
        "colab": {
          "base_uri": "https://localhost:8080/"
        },
        "id": "y_46kdbsuUFg",
        "outputId": "f7483c72-801c-4d7e-873a-6dc037ec1e77"
      },
      "execution_count": null,
      "outputs": [
        {
          "output_type": "stream",
          "name": "stdout",
          "text": [
            "Olá, Mundo\n",
            "Meu nome é Luis Gomes\n",
            "Estou aprendendo Python\n"
          ]
        }
      ]
    },
    {
      "cell_type": "markdown",
      "source": [
        "### Operações Matemáticas"
      ],
      "metadata": {
        "id": "s3oqbzXEuBMm"
      }
    },
    {
      "cell_type": "code",
      "source": [
        "100 + 30"
      ],
      "metadata": {
        "colab": {
          "base_uri": "https://localhost:8080/"
        },
        "id": "GQU1lc2psEWV",
        "outputId": "c99d1925-9d90-4185-8985-ef56b782ed11"
      },
      "execution_count": null,
      "outputs": [
        {
          "output_type": "execute_result",
          "data": {
            "text/plain": [
              "130"
            ]
          },
          "metadata": {},
          "execution_count": 4
        }
      ]
    },
    {
      "cell_type": "code",
      "source": [
        "100 - 30"
      ],
      "metadata": {
        "colab": {
          "base_uri": "https://localhost:8080/"
        },
        "id": "TPS5wUwYueiO",
        "outputId": "520199b6-50fb-46f1-d685-08e5ebca2f07"
      },
      "execution_count": null,
      "outputs": [
        {
          "output_type": "execute_result",
          "data": {
            "text/plain": [
              "70"
            ]
          },
          "metadata": {},
          "execution_count": 5
        }
      ]
    },
    {
      "cell_type": "code",
      "source": [
        "20 * 20"
      ],
      "metadata": {
        "colab": {
          "base_uri": "https://localhost:8080/"
        },
        "id": "ZD_E5wpqufzC",
        "outputId": "d4149226-4e3b-43bf-a347-8cc9acd177e5"
      },
      "execution_count": null,
      "outputs": [
        {
          "output_type": "execute_result",
          "data": {
            "text/plain": [
              "400"
            ]
          },
          "metadata": {},
          "execution_count": 6
        }
      ]
    },
    {
      "cell_type": "code",
      "source": [
        "100 + 30\n",
        "100 -30\n",
        "20 * 20"
      ],
      "metadata": {
        "colab": {
          "base_uri": "https://localhost:8080/"
        },
        "id": "XdnDrys4uhAS",
        "outputId": "38370be3-1fab-47e5-ca12-f54e5ee4f3a0"
      },
      "execution_count": null,
      "outputs": [
        {
          "output_type": "execute_result",
          "data": {
            "text/plain": [
              "400"
            ]
          },
          "metadata": {},
          "execution_count": 7
        }
      ]
    },
    {
      "cell_type": "code",
      "source": [
        "print(100 + 30)\n",
        "print(100 -30)\n",
        "print(20 * 20)"
      ],
      "metadata": {
        "colab": {
          "base_uri": "https://localhost:8080/"
        },
        "id": "6UlMcD9PumuE",
        "outputId": "0e201649-33cc-4e55-a57c-a9f28e065a05"
      },
      "execution_count": null,
      "outputs": [
        {
          "output_type": "stream",
          "name": "stdout",
          "text": [
            "130\n",
            "70\n",
            "400\n"
          ]
        }
      ]
    },
    {
      "cell_type": "markdown",
      "source": [
        "## Operações matemáticas com variáveis"
      ],
      "metadata": {
        "id": "1N013zwnuvQ7"
      }
    },
    {
      "cell_type": "code",
      "source": [
        "resultado1 = 100 + 30\n",
        "resultado2 = resultado1 - 30\n",
        "resultado3 = resultado2 * 20\n",
        "resultado_final = resultado3 * 20\n",
        "\n",
        "print( 'O resultado final é: ')\n",
        "print( resultado_final)"
      ],
      "metadata": {
        "colab": {
          "base_uri": "https://localhost:8080/"
        },
        "id": "XfEsEDrvure7",
        "outputId": "57b07c1b-54e2-41ce-ce3e-ddbc58063b47"
      },
      "execution_count": null,
      "outputs": [
        {
          "output_type": "stream",
          "name": "stdout",
          "text": [
            "O resultado final é: \n",
            "40000\n"
          ]
        }
      ]
    },
    {
      "cell_type": "code",
      "source": [
        "print(resultado1)\n",
        "print(resultado2)\n",
        "print(resultado3)"
      ],
      "metadata": {
        "colab": {
          "base_uri": "https://localhost:8080/"
        },
        "id": "4ia5XrW0u90N",
        "outputId": "9fed47e2-e515-4acc-d733-9b445cb12718"
      },
      "execution_count": null,
      "outputs": [
        {
          "output_type": "stream",
          "name": "stdout",
          "text": [
            "130\n",
            "100\n",
            "2000\n"
          ]
        }
      ]
    },
    {
      "cell_type": "markdown",
      "source": [
        "## Condicionais"
      ],
      "metadata": {
        "id": "clOn4wgmvdBS"
      }
    },
    {
      "cell_type": "code",
      "source": [
        "horario = \"noite\"\n",
        "if horario == \"manhã\":\n",
        "  print(\"Bom dia!\")\n",
        "elif horario == \"tarde\":\n",
        "  print(\"Boa tarde!\")\n",
        "else:\n",
        "  print(\"Boa noite!\")"
      ],
      "metadata": {
        "colab": {
          "base_uri": "https://localhost:8080/"
        },
        "id": "E1nipj4NvHnQ",
        "outputId": "b687a90c-abe2-404b-977b-c7853b6a5454"
      },
      "execution_count": null,
      "outputs": [
        {
          "output_type": "stream",
          "name": "stdout",
          "text": [
            "Boa noite!\n"
          ]
        }
      ]
    }
  ]
}